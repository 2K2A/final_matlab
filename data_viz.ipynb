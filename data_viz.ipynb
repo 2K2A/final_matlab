{
 "cells": [
  {
   "cell_type": "markdown",
   "metadata": {},
   "source": [
    "# Sign Recognition\n",
    "\n",
    "We consider several methods for finding and recognizing signs in images. Each method is compared against the same data-sets, and the success/failure rates are tallied in a table at the end of the document.\n",
    "\n",
    "## Methods\n",
    "\n",
    "### Available Open Source Libraries\n",
    "\n",
    "There seems to be one major computer vision library available: OpenCV. Other common computer vision libraries in Python are wrappers for OpenCV and some of its dependancies.\n",
    "\n",
    " - https://docs.opencv.org/master/\n",
    " - http://simplecv.org/ < wrapper for openCV (and others)\n",
    " - https://github.com/arunponnusamy/cvlib < wrapper for openCV\n",
    " \n",
    "For this project, we'll be using OpenCV functionality, rather than trying to reinvent the wheel.\n",
    "\n",
    "### Wave-form Hough Transform\n",
    "\n",
    "- https://docs.opencv.org/master/d2/d15/group__cudaimgproc__hough.html\n",
    "\n",
    "### Generalized Hough Transform\n",
    "\n",
    "- https://docs.opencv.org/master/d2/d15/group__cudaimgproc__hough.html\n",
    "\n",
    "### Neural Nets\n",
    "\n",
    " - https://www.tensorflow.org/\n",
    " - https://keras.io/\n",
    " - http://torch.ch/\n",
    " - http://deeplearning.net/software/theano/\n",
    " - http://caffe.berkeleyvision.org/\n",
    "\n",
    "### OpenCV Object Detection\n",
    "\n",
    " - https://docs.opencv.org/master/d5/d54/group__objdetect.html\n",
    "\n",
    "### Others?"
   ]
  },
  {
   "cell_type": "code",
   "execution_count": 4,
   "metadata": {},
   "outputs": [],
   "source": [
    "# We need to set up some boilerplate so that everything else runs smoothly.\n",
    "\n",
    "# Imports...\n",
    "import matplotlib # display all the things...\n",
    "import cv2        # OpenCV: manipulate images...\n",
    "\n",
    "# 1. Where are the development/training images?!\n",
    "\n",
    "# 2. Where are the test images?!\n",
    "\n",
    "# 3. Some data structures to handle performance tracking.\n",
    "\n",
    "# 4. Some helper functions. TODO: move these to a separate file.\n",
    "\n",
    "## Display 3 best matches.\n",
    "def disp_best():\n",
    "    pass\n",
    "\n",
    "## Display 3 worst matches.\n",
    "def disp_worst():\n",
    "    pass\n",
    "\n",
    "## Display 3 wrong matches.\n",
    "def disp_wrong():\n",
    "    pass\n",
    "\n",
    "## Print a table of error rates.\n",
    "\n",
    "## Print a table of execution times."
   ]
  },
  {
   "cell_type": "markdown",
   "metadata": {},
   "source": [
    "# Wave-form Hough Transform\n",
    "\n",
    "## Image Processing Pipeline\n",
    "\n",
    "image -> threshold -> denoise -> Hough Transform -> classify\n",
    "\n",
    "## Common Failures\n",
    "\n",
    "## Potential Improvements"
   ]
  },
  {
   "cell_type": "markdown",
   "metadata": {},
   "source": [
    "# Generalized Hough Transform\n",
    "\n",
    "## Image Processing Pipeline\n",
    "\n",
    "image -> threshold -> denoise -> Hough Transform -> classify\n",
    "\n",
    "## Common Failures\n",
    "\n",
    "## Potential Improvements"
   ]
  },
  {
   "cell_type": "markdown",
   "metadata": {},
   "source": [
    "# Neural Nets\n",
    "\n",
    "## GAN\n",
    "\n",
    "## Others?\n",
    "\n",
    "## Potential Improvements\n",
    "\n",
    "## Common Errors"
   ]
  },
  {
   "cell_type": "markdown",
   "metadata": {},
   "source": [
    "# OpenCV Libraries\n",
    "\n",
    "## Potential Improvements\n",
    "\n",
    "## Common Errors"
   ]
  },
  {
   "cell_type": "markdown",
   "metadata": {},
   "source": [
    "# Conclusions\n",
    "\n",
    "[description of algorithm matching performance, implementation difficulty, and potential imporvements in method , speed, and accuracy]\n",
    "\n",
    "## Error Rates\n",
    "\n",
    "[table of error rates]\n",
    "\n",
    "## Execution Speed\n",
    "\n",
    "[table of execution speed in terms of the whole algo. image pipeline]\n",
    "\n",
    "## Common Failures\n",
    "\n",
    "[pictures showing where and how each algorithm failed, a shorter version of what the algo. sections contain]"
   ]
  },
  {
   "cell_type": "code",
   "execution_count": null,
   "metadata": {},
   "outputs": [],
   "source": []
  }
 ],
 "metadata": {
  "kernelspec": {
   "display_name": "Python 3",
   "language": "python",
   "name": "python3"
  },
  "language_info": {
   "codemirror_mode": {
    "name": "ipython",
    "version": 3
   },
   "file_extension": ".py",
   "mimetype": "text/x-python",
   "name": "python",
   "nbconvert_exporter": "python",
   "pygments_lexer": "ipython3",
   "version": "3.7.0"
  }
 },
 "nbformat": 4,
 "nbformat_minor": 2
}
